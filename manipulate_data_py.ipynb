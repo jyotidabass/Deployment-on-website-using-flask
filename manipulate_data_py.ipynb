{
  "nbformat": 4,
  "nbformat_minor": 0,
  "metadata": {
    "colab": {
      "name": "manipulate_data.py",
      "provenance": [],
      "authorship_tag": "ABX9TyP2Bs6QDEgz304IjOuL136d",
      "include_colab_link": true
    },
    "kernelspec": {
      "name": "python3",
      "display_name": "Python 3"
    },
    "language_info": {
      "name": "python"
    }
  },
  "cells": [
    {
      "cell_type": "markdown",
      "metadata": {
        "id": "view-in-github",
        "colab_type": "text"
      },
      "source": [
        "<a href=\"https://colab.research.google.com/github/jyotidabass/Deployment-on-website-using-flask/blob/main/manipulate_data_py.ipynb\" target=\"_parent\"><img src=\"https://colab.research.google.com/assets/colab-badge.svg\" alt=\"Open In Colab\"/></a>"
      ]
    },
    {
      "cell_type": "code",
      "execution_count": null,
      "metadata": {
        "id": "AtNQBaSQtMfr"
      },
      "outputs": [],
      "source": [
        "#Get X and Y targets\n",
        "x = data.loc[:,'Avg. Area Income':'Area Population']\n",
        "x = x.astype(int)\n",
        "\n",
        "y = data.loc[:,'Price']\n",
        "y = y.astype(int)"
      ]
    }
  ]
}