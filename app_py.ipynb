{
  "nbformat": 4,
  "nbformat_minor": 0,
  "metadata": {
    "colab": {
      "name": "app.py",
      "provenance": [],
      "authorship_tag": "ABX9TyPmU5hQr5HvHkkeoEB/yzlT",
      "include_colab_link": true
    },
    "kernelspec": {
      "name": "python3",
      "display_name": "Python 3"
    },
    "language_info": {
      "name": "python"
    }
  },
  "cells": [
    {
      "cell_type": "markdown",
      "metadata": {
        "id": "view-in-github",
        "colab_type": "text"
      },
      "source": [
        "<a href=\"https://colab.research.google.com/github/jyotidabass/Deployment-on-website-using-flask/blob/main/app_py.ipynb\" target=\"_parent\"><img src=\"https://colab.research.google.com/assets/colab-badge.svg\" alt=\"Open In Colab\"/></a>"
      ]
    },
    {
      "cell_type": "code",
      "execution_count": null,
      "metadata": {
        "id": "3VT7BMJCp4ce"
      },
      "outputs": [],
      "source": [
        "\n",
        "#Import main library\n",
        "import numpy as np\n",
        "\n",
        "#Import Flask modules\n",
        "from flask import Flask, request, render_template\n",
        "\n",
        "#Import pickle to save our regression model\n",
        "import pickle \n",
        "\n",
        "#Initialize Flask and set the template folder to \"template\"\n",
        "app = Flask(__name__, template_folder = 'template')\n",
        "\n",
        "#Open our model \n",
        "model = pickle.load(open('model.pkl','rb'))\n",
        "\n",
        "#create our \"home\" route using the \"index.html\" page\n",
        "@app.route('/')\n",
        "def home():\n",
        "    return render_template('index.html')\n",
        "\n",
        "#Set a post method to yield predictions on page\n",
        "@app.route('/', methods = ['POST'])\n",
        "def predict():\n",
        "    \n",
        "    #obtain all form values and place them in an array, convert into integers\n",
        "    int_features = [int(x) for x in request.form.values()]\n",
        "    #Combine them all into a final numpy array\n",
        "    final_features = [np.array(int_features)]\n",
        "    #predict the price given the values inputted by user\n",
        "    prediction = model.predict(final_features)\n",
        "    \n",
        "    #Round the output to 2 decimal places\n",
        "    output = round(prediction[0], 2)\n",
        "    \n",
        "    #If the output is negative, the values entered are unreasonable to the context of the application\n",
        "    #If the output is greater than 0, return prediction\n",
        "    if output < 0:\n",
        "        return render_template('index.html', prediction_text = \"Predicted Price is negative, values entered not reasonable\")\n",
        "    elif output >= 0:\n",
        "        return render_template('index.html', prediction_text = 'Predicted Price of the house is: ${}'.format(output))   \n",
        "\n",
        "#Run app\n",
        "if __name__ == \"__main__\":\n",
        "    app.run(debug=True)"
      ]
    }
  ]
}