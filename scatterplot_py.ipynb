{
  "nbformat": 4,
  "nbformat_minor": 0,
  "metadata": {
    "colab": {
      "name": "scatterplot.py",
      "provenance": [],
      "authorship_tag": "ABX9TyN7EkMSfCekYYSV1g4q7/Gs",
      "include_colab_link": true
    },
    "kernelspec": {
      "name": "python3",
      "display_name": "Python 3"
    },
    "language_info": {
      "name": "python"
    }
  },
  "cells": [
    {
      "cell_type": "markdown",
      "metadata": {
        "id": "view-in-github",
        "colab_type": "text"
      },
      "source": [
        "<a href=\"https://colab.research.google.com/github/jyotidabass/Deployment-on-website-using-flask/blob/main/scatterplot_py.ipynb\" target=\"_parent\"><img src=\"https://colab.research.google.com/assets/colab-badge.svg\" alt=\"Open In Colab\"/></a>"
      ]
    },
    {
      "cell_type": "code",
      "execution_count": null,
      "metadata": {
        "id": "o8sj0bGiu3yu"
      },
      "outputs": [],
      "source": [
        "#Scatterplot of testing set\n",
        "predicted = regressor.predict(X_test)\n",
        "plt.scatter(y_test, predicted)\n",
        "\n",
        "#scatterplot of training set\n",
        "predicted = regressor.predict(X_train)\n",
        "plt.scatter(y_train, predicted)"
      ]
    }
  ]
}