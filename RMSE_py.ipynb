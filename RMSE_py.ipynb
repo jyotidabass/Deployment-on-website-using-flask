{
  "nbformat": 4,
  "nbformat_minor": 0,
  "metadata": {
    "colab": {
      "name": "RMSE.py",
      "provenance": [],
      "authorship_tag": "ABX9TyN2dZuhJL7nYyzm7SemnRH/",
      "include_colab_link": true
    },
    "kernelspec": {
      "name": "python3",
      "display_name": "Python 3"
    },
    "language_info": {
      "name": "python"
    }
  },
  "cells": [
    {
      "cell_type": "markdown",
      "metadata": {
        "id": "view-in-github",
        "colab_type": "text"
      },
      "source": [
        "<a href=\"https://colab.research.google.com/github/jyotidabass/Deployment-on-website-using-flask/blob/main/RMSE_py.ipynb\" target=\"_parent\"><img src=\"https://colab.research.google.com/assets/colab-badge.svg\" alt=\"Open In Colab\"/></a>"
      ]
    },
    {
      "cell_type": "code",
      "execution_count": null,
      "metadata": {
        "id": "k60iPAZUulkF"
      },
      "outputs": [],
      "source": [
        "#find RMSE \n",
        "print(np.sqrt(mean_squared_error(y_test, predicted)))"
      ]
    }
  ]
}