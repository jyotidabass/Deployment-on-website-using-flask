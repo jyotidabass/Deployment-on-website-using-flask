{
  "nbformat": 4,
  "nbformat_minor": 0,
  "metadata": {
    "colab": {
      "name": "train_and_fit.py",
      "provenance": [],
      "authorship_tag": "ABX9TyPYQ5DBxNLA1IKSL+MRtkdx",
      "include_colab_link": true
    },
    "kernelspec": {
      "name": "python3",
      "display_name": "Python 3"
    },
    "language_info": {
      "name": "python"
    }
  },
  "cells": [
    {
      "cell_type": "markdown",
      "metadata": {
        "id": "view-in-github",
        "colab_type": "text"
      },
      "source": [
        "<a href=\"https://colab.research.google.com/github/jyotidabass/Deployment-on-website-using-flask/blob/main/train_and_fit_py.ipynb\" target=\"_parent\"><img src=\"https://colab.research.google.com/assets/colab-badge.svg\" alt=\"Open In Colab\"/></a>"
      ]
    },
    {
      "cell_type": "code",
      "execution_count": null,
      "metadata": {
        "id": "6grJKK-Mtzbd"
      },
      "outputs": [],
      "source": [
        "#Split data into train and test sets\n",
        "X_train, X_test, y_train, y_test = train_test_split(x, y, test_size=0.33, random_state=42)\n",
        "\n",
        "#Initialize regressor\n",
        "regressor = LinearRegression()\n",
        "\n",
        "#Begin fitting the training sets\n",
        "regressor.fit(X_train, y_train)"
      ]
    }
  ]
}